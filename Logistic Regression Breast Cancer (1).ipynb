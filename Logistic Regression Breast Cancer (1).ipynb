{
 "cells": [
  {
   "cell_type": "code",
   "execution_count": 10,
   "metadata": {},
   "outputs": [],
   "source": [
    "from sklearn.datasets import load_breast_cancer\n",
    "import numpy as np\n",
    "import matplotlib.pyplot as plt\n",
    "from sklearn.model_selection import train_test_split\n",
    "import random"
   ]
  },
  {
   "cell_type": "code",
   "execution_count": 11,
   "metadata": {},
   "outputs": [],
   "source": [
    "cancer = load_breast_cancer()"
   ]
  },
  {
   "cell_type": "code",
   "execution_count": 12,
   "metadata": {},
   "outputs": [],
   "source": [
    "xtrain,xtest,ytrain,ytest = train_test_split(cancer.data,cancer.target,random_state=0)"
   ]
  },
  {
   "cell_type": "code",
   "execution_count": 13,
   "metadata": {},
   "outputs": [],
   "source": [
    "from matplotlib import pyplot as plt\n",
    "def sigmoid(z):\n",
    "    return 1 / (1 + np.exp(-z))\n",
    "def logic1(xtrain,xtest,ytrain,ytest,alpha):\n",
    "    xtrain = np.asmatrix(xtrain)\n",
    "    xtest = np.asmatrix(xtest)\n",
    "    ytrain = np.asmatrix(ytrain)\n",
    "    ytest = np.asmatrix(ytest)\n",
    "    theta = []\n",
    "    random.seed(0)\n",
    "    for x in range(xtrain.shape[1]):\n",
    "        theta.append(random.uniform(0,1))\n",
    "    theta1 = np.transpose(np.matrix(theta))\n",
    "    b= 0\n",
    "    #print(theta1)\n",
    "    for i in range(3000):\n",
    "        z = np.dot(xtrain,theta1)\n",
    "        a = sigmoid(z)\n",
    "        m = len(xtrain)\n",
    "        dz = a-np.transpose(ytrain)\n",
    "        dw = np.dot(np.transpose(xtrain),dz)/m\n",
    "        db = np.sum(dz)/m\n",
    "        theta1 = theta1- alpha*dw\n",
    "        b -= (alpha*db)\n",
    "    yt = np.dot(xtest, theta1)\n",
    "    ytnew = sigmoid(yt)\n",
    "    mt = len(xtest)\n",
    "    ytestfinal = []\n",
    "    for i in ytnew:\n",
    "        if i<0.5:\n",
    "            ytestfinal.append(0)\n",
    "        else:\n",
    "            ytestfinal.append(1)\n",
    "    print(np.mean(np.transpose(ytest)==np.matrix(ytestfinal)))"
   ]
  },
  {
   "cell_type": "code",
   "execution_count": 14,
   "metadata": {},
   "outputs": [
    {
     "name": "stdout",
     "output_type": "stream",
     "text": [
      "0.61670497334833\n"
     ]
    }
   ],
   "source": [
    "logic1(xtrain,xtest,ytrain,ytest,0.001)"
   ]
  },
  {
   "cell_type": "code",
   "execution_count": 24,
   "metadata": {},
   "outputs": [
    {
     "data": {
      "text/plain": [
       "(array([159.,   0.,   0.,   0.,   0.,   0.,   0.,   0.,   0., 267.]),\n",
       " array([0. , 0.1, 0.2, 0.3, 0.4, 0.5, 0.6, 0.7, 0.8, 0.9, 1. ]),\n",
       " <a list of 10 Patch objects>)"
      ]
     },
     "execution_count": 24,
     "metadata": {},
     "output_type": "execute_result"
    },
    {
     "data": {
      "image/png": "[encoded data removed]",
      "text/plain": [
       "<Figure size 432x288 with 1 Axes>"
      ]
     },
     "metadata": {
      "needs_background": "light"
     },
     "output_type": "display_data"
    }
   ],
   "source": [
    "plt.hist(ytrain)"
   ]
  },
  {
   "cell_type": "code",
   "execution_count": 25,
   "metadata": {},
   "outputs": [
    {
     "data": {
      "text/plain": [
       "(array([53.,  0.,  0.,  0.,  0.,  0.,  0.,  0.,  0., 90.]),\n",
       " array([0. , 0.1, 0.2, 0.3, 0.4, 0.5, 0.6, 0.7, 0.8, 0.9, 1. ]),\n",
       " <a list of 10 Patch objects>)"
      ]
     },
     "execution_count": 25,
     "metadata": {},
     "output_type": "execute_result"
    },
    {
     "data": {
      "image/png": "[encoded data removed]",
      "text/plain": [
       "<Figure size 432x288 with 1 Axes>"
      ]
     },
     "metadata": {
      "needs_background": "light"
     },
     "output_type": "display_data"
    }
   ],
   "source": [
    "plt.hist(ytest)"
   ]
  },
  {
   "cell_type": "code",
   "execution_count": null,
   "metadata": {},
   "outputs": [],
   "source": []
  }
 ],
 "metadata": {
  "kernelspec": {
   "display_name": "Python 3",
   "language": "python",
   "name": "python3"
  },
  "language_info": {
   "codemirror_mode": {
    "name": "ipython",
    "version": 3
   },
   "file_extension": ".py",
   "mimetype": "text/x-python",
   "name": "python",
   "nbconvert_exporter": "python",
   "pygments_lexer": "ipython3",
   "version": "3.6.8"
  }
 },
 "nbformat": 4,
 "nbformat_minor": 2
}
